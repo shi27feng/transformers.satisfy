{
 "cells": [
  {
   "cell_type": "code",
   "execution_count": 1,
   "metadata": {
    "collapsed": true
   },
   "outputs": [],
   "source": [
    "import torch\n",
    "from torch_sparse import spmm"
   ]
  },
  {
   "cell_type": "code",
   "execution_count": 2,
   "outputs": [],
   "source": [
    "index = torch.tensor([[0, 0, 1, 2, 2],\n",
    "                      [0, 2, 1, 0, 1]])\n",
    "value = torch.Tensor([[1, 2, 4, 1, 3],\n",
    "                      [3, 1, 5, 2, 4]])\n",
    "matrix = torch.Tensor([[1, 4], [2, 5], [3, 6]])\n"
   ],
   "metadata": {
    "collapsed": false,
    "pycharm": {
     "name": "#%%\n"
    }
   }
  },
  {
   "cell_type": "code",
   "execution_count": 3,
   "outputs": [
    {
     "ename": "RuntimeError",
     "evalue": "The following operation failed in the TorchScript interpreter.\nTraceback of TorchScript (most recent call last):\n  File \"/home/feng/.local/lib/python3.8/site-packages/torch_scatter/scatter.py\", line 31, in scatter_add\n                out: Optional[torch.Tensor] = None,\n                dim_size: Optional[int] = None) -> torch.Tensor:\n    return scatter_sum(src, index, dim, out, dim_size)\n           ~~~~~~~~~~~ <--- HERE\n  File \"/home/feng/.local/lib/python3.8/site-packages/torch_scatter/scatter.py\", line 12, in scatter_sum\n                out: Optional[torch.Tensor] = None,\n                dim_size: Optional[int] = None) -> torch.Tensor:\n    index = broadcast(index, src, dim)\n            ~~~~~~~~~ <--- HERE\n    if out is None:\n        size = src.size()\n  File \"/home/feng/.local/lib/python3.8/site-packages/torch_scatter/utils.py\", line 13, in broadcast\n    for _ in range(src.dim(), other.dim()):\n        src = src.unsqueeze(-1)\n    src = src.expand_as(other)\n          ~~~~~~~~~~~~~ <--- HERE\n    return src\nRuntimeError: The expanded size of the tensor (2) must match the existing size (5) at non-singleton dimension 0.  Target sizes: [2, 5, 2].  Tensor sizes: [5, 1, 1]\n",
     "output_type": "error",
     "traceback": [
      "\u001B[0;31m---------------------------------------------------------------------------\u001B[0m",
      "\u001B[0;31mRuntimeError\u001B[0m                              Traceback (most recent call last)",
      "\u001B[0;32m<ipython-input-3-3e7716550f32>\u001B[0m in \u001B[0;36m<module>\u001B[0;34m\u001B[0m\n\u001B[0;32m----> 1\u001B[0;31m \u001B[0mout\u001B[0m \u001B[0;34m=\u001B[0m \u001B[0mspmm\u001B[0m\u001B[0;34m(\u001B[0m\u001B[0mindex\u001B[0m\u001B[0;34m,\u001B[0m \u001B[0mvalue\u001B[0m\u001B[0;34m,\u001B[0m \u001B[0;36m3\u001B[0m\u001B[0;34m,\u001B[0m \u001B[0;36m3\u001B[0m\u001B[0;34m,\u001B[0m \u001B[0mmatrix\u001B[0m\u001B[0;34m)\u001B[0m\u001B[0;34m\u001B[0m\u001B[0;34m\u001B[0m\u001B[0m\n\u001B[0m\u001B[1;32m      2\u001B[0m \u001B[0;34m\u001B[0m\u001B[0m\n",
      "\u001B[0;32m~/.local/lib/python3.8/site-packages/torch_sparse/spmm.py\u001B[0m in \u001B[0;36mspmm\u001B[0;34m(index, value, m, n, matrix)\u001B[0m\n\u001B[1;32m     23\u001B[0m     \u001B[0mout\u001B[0m \u001B[0;34m=\u001B[0m \u001B[0mmatrix\u001B[0m\u001B[0;34m[\u001B[0m\u001B[0mcol\u001B[0m\u001B[0;34m]\u001B[0m\u001B[0;34m\u001B[0m\u001B[0;34m\u001B[0m\u001B[0m\n\u001B[1;32m     24\u001B[0m     \u001B[0mout\u001B[0m \u001B[0;34m=\u001B[0m \u001B[0mout\u001B[0m \u001B[0;34m*\u001B[0m \u001B[0mvalue\u001B[0m\u001B[0;34m.\u001B[0m\u001B[0munsqueeze\u001B[0m\u001B[0;34m(\u001B[0m\u001B[0;34m-\u001B[0m\u001B[0;36m1\u001B[0m\u001B[0;34m)\u001B[0m\u001B[0;34m\u001B[0m\u001B[0;34m\u001B[0m\u001B[0m\n\u001B[0;32m---> 25\u001B[0;31m     \u001B[0mout\u001B[0m \u001B[0;34m=\u001B[0m \u001B[0mscatter_add\u001B[0m\u001B[0;34m(\u001B[0m\u001B[0mout\u001B[0m\u001B[0;34m,\u001B[0m \u001B[0mrow\u001B[0m\u001B[0;34m,\u001B[0m \u001B[0mdim\u001B[0m\u001B[0;34m=\u001B[0m\u001B[0;36m0\u001B[0m\u001B[0;34m,\u001B[0m \u001B[0mdim_size\u001B[0m\u001B[0;34m=\u001B[0m\u001B[0mm\u001B[0m\u001B[0;34m)\u001B[0m\u001B[0;34m\u001B[0m\u001B[0;34m\u001B[0m\u001B[0m\n\u001B[0m\u001B[1;32m     26\u001B[0m \u001B[0;34m\u001B[0m\u001B[0m\n\u001B[1;32m     27\u001B[0m     \u001B[0;32mreturn\u001B[0m \u001B[0mout\u001B[0m\u001B[0;34m\u001B[0m\u001B[0;34m\u001B[0m\u001B[0m\n",
      "\u001B[0;31mRuntimeError\u001B[0m: The following operation failed in the TorchScript interpreter.\nTraceback of TorchScript (most recent call last):\n  File \"/home/feng/.local/lib/python3.8/site-packages/torch_scatter/scatter.py\", line 31, in scatter_add\n                out: Optional[torch.Tensor] = None,\n                dim_size: Optional[int] = None) -> torch.Tensor:\n    return scatter_sum(src, index, dim, out, dim_size)\n           ~~~~~~~~~~~ <--- HERE\n  File \"/home/feng/.local/lib/python3.8/site-packages/torch_scatter/scatter.py\", line 12, in scatter_sum\n                out: Optional[torch.Tensor] = None,\n                dim_size: Optional[int] = None) -> torch.Tensor:\n    index = broadcast(index, src, dim)\n            ~~~~~~~~~ <--- HERE\n    if out is None:\n        size = src.size()\n  File \"/home/feng/.local/lib/python3.8/site-packages/torch_scatter/utils.py\", line 13, in broadcast\n    for _ in range(src.dim(), other.dim()):\n        src = src.unsqueeze(-1)\n    src = src.expand_as(other)\n          ~~~~~~~~~~~~~ <--- HERE\n    return src\nRuntimeError: The expanded size of the tensor (2) must match the existing size (5) at non-singleton dimension 0.  Target sizes: [2, 5, 2].  Tensor sizes: [5, 1, 1]\n"
     ]
    }
   ],
   "source": [
    "out = spmm(index, value, 3, 3, matrix)\n"
   ],
   "metadata": {
    "collapsed": false,
    "pycharm": {
     "name": "#%%\n"
    }
   }
  },
  {
   "cell_type": "markdown",
   "source": [
    "pytorch geometric does not support batch sparse-dense"
   ],
   "metadata": {
    "collapsed": false
   }
  },
  {
   "cell_type": "code",
   "execution_count": 5,
   "outputs": [
    {
     "ename": "RuntimeError",
     "evalue": "indices and values must have same nnz, but got nnz from indices: 6, nnz from values: 2",
     "output_type": "error",
     "traceback": [
      "\u001B[0;31m---------------------------------------------------------------------------\u001B[0m",
      "\u001B[0;31mRuntimeError\u001B[0m                              Traceback (most recent call last)",
      "\u001B[0;32m<ipython-input-5-f7b223f4c88f>\u001B[0m in \u001B[0;36m<module>\u001B[0;34m\u001B[0m\n\u001B[0;32m----> 1\u001B[0;31m a = torch.sparse.FloatTensor(\n\u001B[0m\u001B[1;32m      2\u001B[0m     indices=torch.LongTensor([[0, 0, 0, 1, 1, 1],\n\u001B[1;32m      3\u001B[0m                               [0, 1, 2, 0, 1, 2]]),\n\u001B[1;32m      4\u001B[0m     values=torch.FloatTensor([[ 1.5901,  0.0183, -0.6146,  1.8061, -0.0112,  0.6302],\n\u001B[1;32m      5\u001B[0m                               [ 1.5901,  0.0183, -0.6146,  1.8061, -0.0112,  0.6302]]),\n",
      "\u001B[0;31mRuntimeError\u001B[0m: indices and values must have same nnz, but got nnz from indices: 6, nnz from values: 2"
     ]
    }
   ],
   "source": [
    "a = torch.sparse.FloatTensor(\n",
    "    indices=torch.LongTensor([[0, 0, 0, 1, 1, 1],\n",
    "                              [0, 1, 2, 0, 1, 2]]),\n",
    "    values=torch.FloatTensor([[ 1.5901,  0.0183, -0.6146,  1.8061, -0.0112,  0.6302],\n",
    "                              [ 1.5901,  0.0183, -0.6146,  1.8061, -0.0112,  0.6302]]),\n",
    "    size=(2, 3, 2))"
   ],
   "metadata": {
    "collapsed": false,
    "pycharm": {
     "name": "#%%\n"
    }
   }
  },
  {
   "cell_type": "markdown",
   "source": [
    "This is also not working"
   ],
   "metadata": {
    "collapsed": false
   }
  },
  {
   "cell_type": "code",
   "execution_count": null,
   "outputs": [],
   "source": [],
   "metadata": {
    "collapsed": false,
    "pycharm": {
     "name": "#%%\n"
    }
   }
  }
 ],
 "metadata": {
  "kernelspec": {
   "name": "pycharm-39f2cc83",
   "language": "python",
   "display_name": "PyCharm (transformers.satisfy)"
  },
  "language_info": {
   "codemirror_mode": {
    "name": "ipython",
    "version": 2
   },
   "file_extension": ".py",
   "mimetype": "text/x-python",
   "name": "python",
   "nbconvert_exporter": "python",
   "pygments_lexer": "ipython2",
   "version": "2.7.6"
  }
 },
 "nbformat": 4,
 "nbformat_minor": 0
}