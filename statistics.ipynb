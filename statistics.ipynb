{
 "cells": [
  {
   "cell_type": "code",
   "execution_count": 1,
   "metadata": {},
   "outputs": [],
   "source": [
    "import pandas as pd\n",
    "import numpy as np\n",
    "import matplotlib.pyplot as plt"
   ]
  },
  {
   "cell_type": "code",
   "execution_count": 2,
   "metadata": {},
   "outputs": [],
   "source": [
    "def annotateBars(row, ax):\n",
    "    prev_val = 0.\n",
    "    offset = -1.5\n",
    "    for col in row.index:\n",
    "        value = row[col]\n",
    "        if (str(value) != 'nan'):\n",
    "            ax.text(value/2 + prev_val + offset, labeltonum(row.name), col + \":\" + \"%.1f\" % np.exp(value), color='white')\n",
    "            prev_val += value\n",
    "            offset += 0.5"
   ]
  },
  {
   "cell_type": "code",
   "execution_count": 3,
   "metadata": {},
   "outputs": [],
   "source": [
    "def labeltonum(label):\n",
    "    if label == 'RLSAT':\n",
    "        return 0\n",
    "    elif label == 'PDP':\n",
    "        return 1\n",
    "    elif label == 'TRSAT':\n",
    "        return 2"
   ]
  },
  {
   "cell_type": "code",
   "execution_count": 4,
   "metadata": {},
   "outputs": [],
   "source": [
    "# create dataframe\n",
    "df = pd.DataFrame({'Conv2d': [np.log(260400), np.log(81570), np.nan],\n",
    "                   'BatchNorm2d': [np.log(737), np.log(38.4), np.nan],\n",
    "                   'ReLU': [np.log(184), np.log(19.2), np.nan],\n",
    "                   'Linear': [np.nan, np.nan, np.log(6200)],\n",
    "                   'SiLU': [np.nan, np.nan, np.log(22)]},\n",
    "                  index=['RLSAT', 'PDP', 'TRSAT'])"
   ]
  },
  {
   "cell_type": "code",
   "execution_count": 5,
   "metadata": {},
   "outputs": [
    {
     "data": {
      "image/png": "[encoded data removed]",
      "text/plain": [
       "<Figure size 1440x144 with 1 Axes>"
      ]
     },
     "metadata": {
      "needs_background": "light"
     },
     "output_type": "display_data"
    }
   ],
   "source": [
    "# plot dataframe\n",
    "ax = df.plot.barh(title=\"MACs breakdown for top-3 modules (bar length taken log(KMACs))\",\n",
    "                  legend=False,\n",
    "                  figsize=(20,2), stacked=True)\n",
    "df.apply(annotateBars, ax=ax, axis=1)\n",
    "fig = ax.get_figure()\n",
    "fig.savefig('mac_breakdown.pdf', dpi=300, bbox_inches='tight')"
   ]
  },
  {
   "cell_type": "code",
   "execution_count": 6,
   "metadata": {},
   "outputs": [],
   "source": [
    "# create dataframe\n",
    "df = pd.DataFrame({'Conv2d': [np.log(23510), np.log(5710), np.nan],\n",
    "                   'BatchNorm2d': [np.log(19920), np.log(118.97), np.nan],\n",
    "                   'ReLU': [np.log(4490), np.log(236.9), np.nan],\n",
    "                   'Linear': [np.nan, np.nan, np.log(1190)],\n",
    "                   'SiLU': [np.nan, np.nan, np.log(268.22)]},\n",
    "                  index=['RLSAT', 'PDP', 'TRSAT'])"
   ]
  },
  {
   "cell_type": "code",
   "execution_count": null,
   "metadata": {},
   "outputs": [],
   "source": []
  }
 ],
 "metadata": {
  "kernelspec": {
   "display_name": "Python 3",
   "language": "python",
   "name": "python3"
  },
  "language_info": {
   "codemirror_mode": {
    "name": "ipython",
    "version": 3
   },
   "file_extension": ".py",
   "mimetype": "text/x-python",
   "name": "python",
   "nbconvert_exporter": "python",
   "pygments_lexer": "ipython3",
   "version": "3.8.5"
  }
 },
 "nbformat": 4,
 "nbformat_minor": 4
}
